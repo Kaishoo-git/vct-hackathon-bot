{
 "cells": [
  {
   "cell_type": "markdown",
   "id": "bd7713aa-b90a-4702-8c21-e2c4dad5dcb2",
   "metadata": {},
   "source": [
    "# This file is used to break CSVs into individual chunks. "
   ]
  },
  {
   "cell_type": "code",
   "execution_count": 1,
   "id": "35d63808-6394-43a2-8419-7725003d6dd9",
   "metadata": {},
   "outputs": [],
   "source": [
    "import pandas as pd\n",
    "import json\n",
    "import os"
   ]
  },
  {
   "cell_type": "code",
   "execution_count": null,
   "id": "33573bac-8bd7-4069-9007-b9bfe055039e",
   "metadata": {},
   "outputs": [],
   "source": [
    "os.getcwd()"
   ]
  },
  {
   "cell_type": "code",
   "execution_count": 1,
   "id": "a184e70f-3ac7-41d8-aaa6-bbf46e5f1b7b",
   "metadata": {},
   "outputs": [
    {
     "name": "stdout",
     "output_type": "stream",
     "text": [
      "CSV and metadata files created for all players, named after IGN, with region set to 'amer'.\n"
     ]
    }
   ],
   "source": [
    "# Define directories, specific paths truncated for security reasons. \n",
    "csv_files = [csv_files]\n",
    "output_dirs = [output_d\n",
    "metadata_dirs = [dirs_to_files]\n",
    "\n",
    "# Process each CSV and create corresponding output and metadata\n",
    "for csv_file, output_dir, metadata_dir in zip(csv_files, output_dirs, metadata_dirs):\n",
    "    df = pd.read_csv(csv_file)\n",
    "    \n",
    "    # Ensure the output and metadata directories exist\n",
    "    os.makedirs(output_dir, exist_ok=True)\n",
    "    os.makedirs(metadata_dir, exist_ok=True)\n",
    "    \n",
    "    # Iterate through each row in the dataframe\n",
    "    for index, row in df.iterrows():\n",
    "        # Extract ign and ensure it's usable as a filename\n",
    "        player_ign = str(row.get(\"ign\", f\"player_{index + 1}\")).replace(\" \", \"_\").lower()\n",
    "        \n",
    "        # Extract player data into a new dataframe\n",
    "        player_df = pd.DataFrame([row])\n",
    "        \n",
    "        # Save as a new CSV file, naming it after the player's ign\n",
    "        csv_filename = f\"{player_ign}.csv\"\n",
    "        player_df.to_csv(os.path.join(output_dir, csv_filename), index=False)\n",
    "        \n",
    "        # Create corresponding metadata JSON\n",
    "        metadata = {\n",
    "            \"metadataAttributes\": {\n",
    "                \"standings\": str(row.get(\"standings\", \"\")),\n",
    "                \"igl\": str(row.get(\"igl\", \"\")).lower(),  # Convert to lowercase for consistency\n",
    "                \"region\": \"amer\",  # Set region to \"amer\"\n",
    "                \"league\": str(row.get(\"league\", \"vct game changers\"))  # Added league for metadata\n",
    "            }\n",
    "        }\n",
    "        \n",
    "        # Save metadata as a JSON file, also named after the player's ign\n",
    "        metadata_filename = f\"{player_ign}.csv.metadata.json\"\n",
    "        with open(os.path.join(metadata_dir, metadata_filename), 'w') as json_file:\n",
    "            json.dump(metadata, json_file, indent=4)\n",
    "\n",
    "print(\"CSV and metadata files created for all players\")"
   ]
  }
 ],
 "metadata": {
  "kernelspec": {
   "display_name": "Python 3 (ipykernel)",
   "language": "python",
   "name": "python3"
  },
  "language_info": {
   "codemirror_mode": {
    "name": "ipython",
    "version": 3
   },
   "file_extension": ".py",
   "mimetype": "text/x-python",
   "name": "python",
   "nbconvert_exporter": "python",
   "pygments_lexer": "ipython3",
   "version": "3.11.7"
  }
 },
 "nbformat": 4,
 "nbformat_minor": 5
}
