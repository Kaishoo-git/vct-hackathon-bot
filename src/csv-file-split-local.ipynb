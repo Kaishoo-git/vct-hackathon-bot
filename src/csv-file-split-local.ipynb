{
 "cells": [
  {
   "cell_type": "markdown",
   "id": "bd7713aa-b90a-4702-8c21-e2c4dad5dcb2",
   "metadata": {},
   "source": [
    "# This file is used to break CSVs into individual chunks. It will return 1 CSV and 1 metadata file for every row in the main CSV file. "
   ]
  },
  {
   "cell_type": "code",
   "execution_count": 1,
   "id": "35d63808-6394-43a2-8419-7725003d6dd9",
   "metadata": {},
   "outputs": [],
   "source": [
    "import pandas as pd\n",
    "import json\n",
    "import os"
   ]
  },
  {
   "cell_type": "code",
   "execution_count": null,
   "id": "33573bac-8bd7-4069-9007-b9bfe055039e",
   "metadata": {},
   "outputs": [],
   "source": [
    "os.getcwd()"
   ]
  },
  {
   "cell_type": "code",
   "execution_count": null,
   "id": "a184e70f-3ac7-41d8-aaa6-bbf46e5f1b7b",
   "metadata": {},
   "outputs": [],
   "source": [
    "\"\"\"\n",
    "Define functions \n",
    "\"\"\"\n",
    "\n",
    "# Standardise languages\n",
    "def clean_languages(languages):\n",
    "    languages = languages.lower()\n",
    "    languages = languages.replace(\"mandarin chinese\", \"chinese\")\n",
    "    languages = languages.replace(\"cantonese chinese\", \"chinese\")\n",
    "    languages = languages.replace(\"mandarin\", \"chinese\")\n",
    "    languages = languages.replace(\"cantonese\", \"chinese\")\n",
    "    return languages\n",
    "\n",
    "\n",
    "def generate_metadata(row):\n",
    "    metadata = {\n",
    "        \"metadataAttributes\": {\n",
    "            \"standings\": str(row.get(\"standings\", \"\")).lower(),\n",
    "            \"igl\": str(row.get(\"igl\", \"\")).lower(),\n",
    "            \"region\": str(row.get(\"region\", \"amer\")).lower(),  # Default to \"amer\" if not specified\n",
    "            \"league\": str(row.get(\"league\", \"vct game changers\")).lower(),  # Default league\n",
    "            \"languages\": clean_languages(str(row.get(\"languages\", \"\"))),\n",
    "            \"role\": str(row.get(\"team_role\", \"\")).lower()\n",
    "        }\n",
    "    }\n",
    "    return metadata\n",
    "\n",
    "input_dir = r'my_input_dir'\n",
    "output_dir = r'my_output_dir'\n",
    "\n",
    "# Ensure the output directory exists\n",
    "os.makedirs(output_dir, exist_ok=True)\n",
    "\n",
    "# Loop through all CSV files in the directory\n",
    "for file_name in os.listdir(input_dir):\n",
    "    if file_name.endswith('.csv'):\n",
    "        # Load each CSV file\n",
    "        csv_path = os.path.join(input_dir, file_name)\n",
    "        df = pd.read_csv(csv_path)\n",
    "        \n",
    "        # Initialize list to collect metadata for all players in the CSV\n",
    "        combined_metadata_list = []\n",
    "        \n",
    "        # Iterate through each row in the dataframe\n",
    "        for index, row in df.iterrows():\n",
    "            # Extract ign and ensure it's usable as a filename\n",
    "            player_ign = str(row.get(\"ign\", f\"player_{index + 1}\")).replace(\" \", \"_\").lower()\n",
    "            \n",
    "            # Extract player data into a new dataframe\n",
    "            player_df = pd.DataFrame([row])\n",
    "            \n",
    "            # Save as a new CSV file, naming it after the player's ign\n",
    "            csv_filename = f\"{player_ign}.csv\"\n",
    "            player_df.to_csv(os.path.join(output_dir, csv_filename), index=False)\n",
    "            \n",
    "            # Generate metadata for the player\n",
    "            metadata = generate_metadata(row)\n",
    "            \n",
    "            # Save individual metadata as a JSON file, also named after the player's ign\n",
    "            metadata_filename = f\"{player_ign}.csv.metadata.json\"\n",
    "            with open(os.path.join(output_dir, metadata_filename), 'w') as json_file:\n",
    "                json.dump(metadata, json_file, indent=4)\n",
    "            \n",
    "            # Add metadata to combined metadata list\n",
    "            combined_metadata_list.append(metadata)\n",
    "        \n",
    "        # Save combined metadata for all players in the CSV file\n",
    "        base_name = file_name.replace('.csv', '')\n",
    "        combined_metadata_filename = f\"{base_name}.csv.metadata.json\"\n",
    "        combined_metadata_path = os.path.join(output_dir, combined_metadata_filename)\n",
    "        \n",
    "        # Save combined metadata as JSON\n",
    "        with open(combined_metadata_path, 'w') as json_file:\n",
    "            json.dump(combined_metadata_list, json_file, indent=4)\n",
    "\n",
    "print(\"CSV and metadata files created for all players\")"
   ]
  }
 ],
 "metadata": {
  "kernelspec": {
   "display_name": "Python 3 (ipykernel)",
   "language": "python",
   "name": "python3"
  },
  "language_info": {
   "codemirror_mode": {
    "name": "ipython",
    "version": 3
   },
   "file_extension": ".py",
   "mimetype": "text/x-python",
   "name": "python",
   "nbconvert_exporter": "python",
   "pygments_lexer": "ipython3",
   "version": "3.11.7"
  }
 },
 "nbformat": 4,
 "nbformat_minor": 5
}
